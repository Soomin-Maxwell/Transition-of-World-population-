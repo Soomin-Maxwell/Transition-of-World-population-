{
 "cells": [
  {
   "cell_type": "code",
   "execution_count": 20,
   "metadata": {},
   "outputs": [
    {
     "data": {
      "text/plain": [
       "'/Users/maxwell/Desktop/Tansition of World Population/countries_110m /ne_110m_admin_0_countries.shp'"
      ]
     },
     "execution_count": 20,
     "metadata": {},
     "output_type": "execute_result"
    }
   ],
   "source": [
    "import csv\n",
    "import pandas as pd\n",
    "import geopandas as gpd\n",
    "import pydeck as pdk\n",
    "shapefile = '/Users/maxwell/Desktop/Tansition of World Population/countries_110m /ne_110m_admin_0_countries.shp'\n",
    "shapefile"
   ]
  },
  {
   "cell_type": "code",
   "execution_count": 64,
   "metadata": {},
   "outputs": [
    {
     "data": {
      "text/html": [
       "<div>\n",
       "<style scoped>\n",
       "    .dataframe tbody tr th:only-of-type {\n",
       "        vertical-align: middle;\n",
       "    }\n",
       "\n",
       "    .dataframe tbody tr th {\n",
       "        vertical-align: top;\n",
       "    }\n",
       "\n",
       "    .dataframe thead th {\n",
       "        text-align: right;\n",
       "    }\n",
       "</style>\n",
       "<table border=\"1\" class=\"dataframe\">\n",
       "  <thead>\n",
       "    <tr style=\"text-align: right;\">\n",
       "      <th></th>\n",
       "      <th>country</th>\n",
       "      <th>country_code</th>\n",
       "      <th>geometry</th>\n",
       "    </tr>\n",
       "  </thead>\n",
       "  <tbody>\n",
       "    <tr>\n",
       "      <th>0</th>\n",
       "      <td>Fiji</td>\n",
       "      <td>FJI</td>\n",
       "      <td>MULTIPOLYGON (((180.00000 -16.06713, 180.00000...</td>\n",
       "    </tr>\n",
       "    <tr>\n",
       "      <th>1</th>\n",
       "      <td>United Republic of Tanzania</td>\n",
       "      <td>TZA</td>\n",
       "      <td>POLYGON ((33.90371 -0.95000, 34.07262 -1.05982...</td>\n",
       "    </tr>\n",
       "    <tr>\n",
       "      <th>2</th>\n",
       "      <td>Western Sahara</td>\n",
       "      <td>SAH</td>\n",
       "      <td>POLYGON ((-8.66559 27.65643, -8.66512 27.58948...</td>\n",
       "    </tr>\n",
       "    <tr>\n",
       "      <th>3</th>\n",
       "      <td>Canada</td>\n",
       "      <td>CAN</td>\n",
       "      <td>MULTIPOLYGON (((-122.84000 49.00000, -122.9742...</td>\n",
       "    </tr>\n",
       "    <tr>\n",
       "      <th>4</th>\n",
       "      <td>United States of America</td>\n",
       "      <td>USA</td>\n",
       "      <td>MULTIPOLYGON (((-122.84000 49.00000, -120.0000...</td>\n",
       "    </tr>\n",
       "  </tbody>\n",
       "</table>\n",
       "</div>"
      ],
      "text/plain": [
       "                       country country_code  \\\n",
       "0                         Fiji          FJI   \n",
       "1  United Republic of Tanzania          TZA   \n",
       "2               Western Sahara          SAH   \n",
       "3                       Canada          CAN   \n",
       "4     United States of America          USA   \n",
       "\n",
       "                                            geometry  \n",
       "0  MULTIPOLYGON (((180.00000 -16.06713, 180.00000...  \n",
       "1  POLYGON ((33.90371 -0.95000, 34.07262 -1.05982...  \n",
       "2  POLYGON ((-8.66559 27.65643, -8.66512 27.58948...  \n",
       "3  MULTIPOLYGON (((-122.84000 49.00000, -122.9742...  \n",
       "4  MULTIPOLYGON (((-122.84000 49.00000, -120.0000...  "
      ]
     },
     "execution_count": 64,
     "metadata": {},
     "output_type": "execute_result"
    }
   ],
   "source": [
    "gdf.columns = ['country', 'country_code', 'geometry']\n",
    "gdf.head()"
   ]
  },
  {
   "cell_type": "code",
   "execution_count": 65,
   "metadata": {},
   "outputs": [
    {
     "name": "stdout",
     "output_type": "stream",
     "text": [
      "Empty GeoDataFrame\n",
      "Columns: [country, country_code, geometry]\n",
      "Index: []\n"
     ]
    }
   ],
   "source": [
    "print(gdf[gdf['country'] == 'Antarctica'])\n",
    "gdf = gdf.drop(gdf.index[159])\n",
    "#print(gdf[gdf['country'] == 'Antarctica'])"
   ]
  },
  {
   "cell_type": "code",
   "execution_count": 66,
   "metadata": {},
   "outputs": [
    {
     "data": {
      "text/html": [
       "<div>\n",
       "<style scoped>\n",
       "    .dataframe tbody tr th:only-of-type {\n",
       "        vertical-align: middle;\n",
       "    }\n",
       "\n",
       "    .dataframe tbody tr th {\n",
       "        vertical-align: top;\n",
       "    }\n",
       "\n",
       "    .dataframe thead th {\n",
       "        text-align: right;\n",
       "    }\n",
       "</style>\n",
       "<table border=\"1\" class=\"dataframe\">\n",
       "  <thead>\n",
       "    <tr style=\"text-align: right;\">\n",
       "      <th></th>\n",
       "      <th>entity</th>\n",
       "      <th>code</th>\n",
       "      <th>year</th>\n",
       "      <th>population</th>\n",
       "    </tr>\n",
       "  </thead>\n",
       "  <tbody>\n",
       "    <tr>\n",
       "      <th>0</th>\n",
       "      <td>Afghanistan</td>\n",
       "      <td>AFG</td>\n",
       "      <td>1800</td>\n",
       "      <td>3280000</td>\n",
       "    </tr>\n",
       "    <tr>\n",
       "      <th>1</th>\n",
       "      <td>Afghanistan</td>\n",
       "      <td>AFG</td>\n",
       "      <td>1801</td>\n",
       "      <td>3280000</td>\n",
       "    </tr>\n",
       "    <tr>\n",
       "      <th>2</th>\n",
       "      <td>Afghanistan</td>\n",
       "      <td>AFG</td>\n",
       "      <td>1802</td>\n",
       "      <td>3280000</td>\n",
       "    </tr>\n",
       "    <tr>\n",
       "      <th>3</th>\n",
       "      <td>Afghanistan</td>\n",
       "      <td>AFG</td>\n",
       "      <td>1803</td>\n",
       "      <td>3280000</td>\n",
       "    </tr>\n",
       "    <tr>\n",
       "      <th>4</th>\n",
       "      <td>Afghanistan</td>\n",
       "      <td>AFG</td>\n",
       "      <td>1804</td>\n",
       "      <td>3280000</td>\n",
       "    </tr>\n",
       "  </tbody>\n",
       "</table>\n",
       "</div>"
      ],
      "text/plain": [
       "        entity code  year  population\n",
       "0  Afghanistan  AFG  1800     3280000\n",
       "1  Afghanistan  AFG  1801     3280000\n",
       "2  Afghanistan  AFG  1802     3280000\n",
       "3  Afghanistan  AFG  1803     3280000\n",
       "4  Afghanistan  AFG  1804     3280000"
      ]
     },
     "execution_count": 66,
     "metadata": {},
     "output_type": "execute_result"
    }
   ],
   "source": [
    "datafile = 'projected-population-by-country.csv'\n",
    "df = pd.read_csv(datafile, names = ['entity', 'code', 'year', 'population'], skiprows = 1)\n",
    "df.head()"
   ]
  },
  {
   "cell_type": "code",
   "execution_count": 67,
   "metadata": {
    "scrolled": true
   },
   "outputs": [
    {
     "data": {
      "text/html": [
       "<div>\n",
       "<style scoped>\n",
       "    .dataframe tbody tr th:only-of-type {\n",
       "        vertical-align: middle;\n",
       "    }\n",
       "\n",
       "    .dataframe tbody tr th {\n",
       "        vertical-align: top;\n",
       "    }\n",
       "\n",
       "    .dataframe thead th {\n",
       "        text-align: right;\n",
       "    }\n",
       "</style>\n",
       "<table border=\"1\" class=\"dataframe\">\n",
       "  <thead>\n",
       "    <tr style=\"text-align: right;\">\n",
       "      <th></th>\n",
       "      <th>country</th>\n",
       "      <th>geometry</th>\n",
       "      <th>year</th>\n",
       "      <th>population</th>\n",
       "    </tr>\n",
       "  </thead>\n",
       "  <tbody>\n",
       "    <tr>\n",
       "      <th>0</th>\n",
       "      <td>Fiji</td>\n",
       "      <td>MULTIPOLYGON (((180.00000 -16.06713, 180.00000...</td>\n",
       "      <td>1800</td>\n",
       "      <td>130533.0</td>\n",
       "    </tr>\n",
       "    <tr>\n",
       "      <th>1</th>\n",
       "      <td>Fiji</td>\n",
       "      <td>MULTIPOLYGON (((180.00000 -16.06713, 180.00000...</td>\n",
       "      <td>1801</td>\n",
       "      <td>130746.0</td>\n",
       "    </tr>\n",
       "    <tr>\n",
       "      <th>2</th>\n",
       "      <td>Fiji</td>\n",
       "      <td>MULTIPOLYGON (((180.00000 -16.06713, 180.00000...</td>\n",
       "      <td>1802</td>\n",
       "      <td>130959.0</td>\n",
       "    </tr>\n",
       "    <tr>\n",
       "      <th>3</th>\n",
       "      <td>Fiji</td>\n",
       "      <td>MULTIPOLYGON (((180.00000 -16.06713, 180.00000...</td>\n",
       "      <td>1803</td>\n",
       "      <td>131172.0</td>\n",
       "    </tr>\n",
       "    <tr>\n",
       "      <th>4</th>\n",
       "      <td>Fiji</td>\n",
       "      <td>MULTIPOLYGON (((180.00000 -16.06713, 180.00000...</td>\n",
       "      <td>1804</td>\n",
       "      <td>131386.0</td>\n",
       "    </tr>\n",
       "    <tr>\n",
       "      <th>...</th>\n",
       "      <td>...</td>\n",
       "      <td>...</td>\n",
       "      <td>...</td>\n",
       "      <td>...</td>\n",
       "    </tr>\n",
       "    <tr>\n",
       "      <th>48864</th>\n",
       "      <td>Trinidad and Tobago</td>\n",
       "      <td>POLYGON ((-61.68000 10.76000, -61.10500 10.890...</td>\n",
       "      <td>1895</td>\n",
       "      <td>239604.0</td>\n",
       "    </tr>\n",
       "    <tr>\n",
       "      <th>48865</th>\n",
       "      <td>Trinidad and Tobago</td>\n",
       "      <td>POLYGON ((-61.68000 10.76000, -61.10500 10.890...</td>\n",
       "      <td>1896</td>\n",
       "      <td>245821.0</td>\n",
       "    </tr>\n",
       "    <tr>\n",
       "      <th>48866</th>\n",
       "      <td>Trinidad and Tobago</td>\n",
       "      <td>POLYGON ((-61.68000 10.76000, -61.10500 10.890...</td>\n",
       "      <td>1897</td>\n",
       "      <td>252005.0</td>\n",
       "    </tr>\n",
       "    <tr>\n",
       "      <th>48867</th>\n",
       "      <td>Trinidad and Tobago</td>\n",
       "      <td>POLYGON ((-61.68000 10.76000, -61.10500 10.890...</td>\n",
       "      <td>1898</td>\n",
       "      <td>258236.0</td>\n",
       "    </tr>\n",
       "    <tr>\n",
       "      <th>48868</th>\n",
       "      <td>Trinidad and Tobago</td>\n",
       "      <td>POLYGON ((-61.68000 10.76000, -61.10500 10.890...</td>\n",
       "      <td>1899</td>\n",
       "      <td>264500.0</td>\n",
       "    </tr>\n",
       "  </tbody>\n",
       "</table>\n",
       "<p>16100 rows × 4 columns</p>\n",
       "</div>"
      ],
      "text/plain": [
       "                   country                                           geometry  \\\n",
       "0                     Fiji  MULTIPOLYGON (((180.00000 -16.06713, 180.00000...   \n",
       "1                     Fiji  MULTIPOLYGON (((180.00000 -16.06713, 180.00000...   \n",
       "2                     Fiji  MULTIPOLYGON (((180.00000 -16.06713, 180.00000...   \n",
       "3                     Fiji  MULTIPOLYGON (((180.00000 -16.06713, 180.00000...   \n",
       "4                     Fiji  MULTIPOLYGON (((180.00000 -16.06713, 180.00000...   \n",
       "...                    ...                                                ...   \n",
       "48864  Trinidad and Tobago  POLYGON ((-61.68000 10.76000, -61.10500 10.890...   \n",
       "48865  Trinidad and Tobago  POLYGON ((-61.68000 10.76000, -61.10500 10.890...   \n",
       "48866  Trinidad and Tobago  POLYGON ((-61.68000 10.76000, -61.10500 10.890...   \n",
       "48867  Trinidad and Tobago  POLYGON ((-61.68000 10.76000, -61.10500 10.890...   \n",
       "48868  Trinidad and Tobago  POLYGON ((-61.68000 10.76000, -61.10500 10.890...   \n",
       "\n",
       "       year  population  \n",
       "0      1800    130533.0  \n",
       "1      1801    130746.0  \n",
       "2      1802    130959.0  \n",
       "3      1803    131172.0  \n",
       "4      1804    131386.0  \n",
       "...     ...         ...  \n",
       "48864  1895    239604.0  \n",
       "48865  1896    245821.0  \n",
       "48866  1897    252005.0  \n",
       "48867  1898    258236.0  \n",
       "48868  1899    264500.0  \n",
       "\n",
       "[16100 rows x 4 columns]"
      ]
     },
     "execution_count": 67,
     "metadata": {},
     "output_type": "execute_result"
    }
   ],
   "source": [
    "#Perform left merge to preserve every row in gdf.\n",
    "merged = gdf.merge(df, left_on = 'country_code', right_on = 'code', how = 'left')\n",
    "\n",
    "#year < 2020 \n",
    "merged = merged.loc[merged[\"year\"] < '1900', :] \n",
    "\n",
    "#Replace NaN values to string 'No data'.\n",
    "merged.fillna('No data', inplace = True)\n",
    "\n",
    "#change 'year' from object to value \n",
    "#merged['year'] = merged['year'].astype(int)\n",
    "\n",
    "# delete column of \"country, entity, code\"\n",
    "merged.drop(['country_code', 'entity', 'code'], axis='columns', inplace=True)\n",
    "\n",
    "#merged['population'] = merged['population'].astype(float)\n",
    "merged"
   ]
  },
  {
   "cell_type": "code",
   "execution_count": 68,
   "metadata": {},
   "outputs": [
    {
     "data": {
      "text/html": [
       "<div>\n",
       "<style scoped>\n",
       "    .dataframe tbody tr th:only-of-type {\n",
       "        vertical-align: middle;\n",
       "    }\n",
       "\n",
       "    .dataframe tbody tr th {\n",
       "        vertical-align: top;\n",
       "    }\n",
       "\n",
       "    .dataframe thead th {\n",
       "        text-align: right;\n",
       "    }\n",
       "</style>\n",
       "<table border=\"1\" class=\"dataframe\">\n",
       "  <thead>\n",
       "    <tr style=\"text-align: right;\">\n",
       "      <th></th>\n",
       "      <th>country</th>\n",
       "      <th>geometry</th>\n",
       "      <th>year</th>\n",
       "      <th>population</th>\n",
       "      <th>normal</th>\n",
       "    </tr>\n",
       "  </thead>\n",
       "  <tbody>\n",
       "    <tr>\n",
       "      <th>0</th>\n",
       "      <td>Fiji</td>\n",
       "      <td>MULTIPOLYGON (((180.00000 -16.06713, 180.00000...</td>\n",
       "      <td>1800</td>\n",
       "      <td>130533.0</td>\n",
       "      <td>0.000317</td>\n",
       "    </tr>\n",
       "    <tr>\n",
       "      <th>1</th>\n",
       "      <td>Fiji</td>\n",
       "      <td>MULTIPOLYGON (((180.00000 -16.06713, 180.00000...</td>\n",
       "      <td>1801</td>\n",
       "      <td>130746.0</td>\n",
       "      <td>0.000318</td>\n",
       "    </tr>\n",
       "    <tr>\n",
       "      <th>2</th>\n",
       "      <td>Fiji</td>\n",
       "      <td>MULTIPOLYGON (((180.00000 -16.06713, 180.00000...</td>\n",
       "      <td>1802</td>\n",
       "      <td>130959.0</td>\n",
       "      <td>0.000318</td>\n",
       "    </tr>\n",
       "    <tr>\n",
       "      <th>3</th>\n",
       "      <td>Fiji</td>\n",
       "      <td>MULTIPOLYGON (((180.00000 -16.06713, 180.00000...</td>\n",
       "      <td>1803</td>\n",
       "      <td>131172.0</td>\n",
       "      <td>0.000319</td>\n",
       "    </tr>\n",
       "    <tr>\n",
       "      <th>4</th>\n",
       "      <td>Fiji</td>\n",
       "      <td>MULTIPOLYGON (((180.00000 -16.06713, 180.00000...</td>\n",
       "      <td>1804</td>\n",
       "      <td>131386.0</td>\n",
       "      <td>0.000320</td>\n",
       "    </tr>\n",
       "    <tr>\n",
       "      <th>...</th>\n",
       "      <td>...</td>\n",
       "      <td>...</td>\n",
       "      <td>...</td>\n",
       "      <td>...</td>\n",
       "      <td>...</td>\n",
       "    </tr>\n",
       "    <tr>\n",
       "      <th>48864</th>\n",
       "      <td>Trinidad and Tobago</td>\n",
       "      <td>POLYGON ((-61.68000 10.76000, -61.10500 10.890...</td>\n",
       "      <td>1895</td>\n",
       "      <td>239604.0</td>\n",
       "      <td>0.000583</td>\n",
       "    </tr>\n",
       "    <tr>\n",
       "      <th>48865</th>\n",
       "      <td>Trinidad and Tobago</td>\n",
       "      <td>POLYGON ((-61.68000 10.76000, -61.10500 10.890...</td>\n",
       "      <td>1896</td>\n",
       "      <td>245821.0</td>\n",
       "      <td>0.000598</td>\n",
       "    </tr>\n",
       "    <tr>\n",
       "      <th>48866</th>\n",
       "      <td>Trinidad and Tobago</td>\n",
       "      <td>POLYGON ((-61.68000 10.76000, -61.10500 10.890...</td>\n",
       "      <td>1897</td>\n",
       "      <td>252005.0</td>\n",
       "      <td>0.000613</td>\n",
       "    </tr>\n",
       "    <tr>\n",
       "      <th>48867</th>\n",
       "      <td>Trinidad and Tobago</td>\n",
       "      <td>POLYGON ((-61.68000 10.76000, -61.10500 10.890...</td>\n",
       "      <td>1898</td>\n",
       "      <td>258236.0</td>\n",
       "      <td>0.000628</td>\n",
       "    </tr>\n",
       "    <tr>\n",
       "      <th>48868</th>\n",
       "      <td>Trinidad and Tobago</td>\n",
       "      <td>POLYGON ((-61.68000 10.76000, -61.10500 10.890...</td>\n",
       "      <td>1899</td>\n",
       "      <td>264500.0</td>\n",
       "      <td>0.000643</td>\n",
       "    </tr>\n",
       "  </tbody>\n",
       "</table>\n",
       "<p>16100 rows × 5 columns</p>\n",
       "</div>"
      ],
      "text/plain": [
       "                   country                                           geometry  \\\n",
       "0                     Fiji  MULTIPOLYGON (((180.00000 -16.06713, 180.00000...   \n",
       "1                     Fiji  MULTIPOLYGON (((180.00000 -16.06713, 180.00000...   \n",
       "2                     Fiji  MULTIPOLYGON (((180.00000 -16.06713, 180.00000...   \n",
       "3                     Fiji  MULTIPOLYGON (((180.00000 -16.06713, 180.00000...   \n",
       "4                     Fiji  MULTIPOLYGON (((180.00000 -16.06713, 180.00000...   \n",
       "...                    ...                                                ...   \n",
       "48864  Trinidad and Tobago  POLYGON ((-61.68000 10.76000, -61.10500 10.890...   \n",
       "48865  Trinidad and Tobago  POLYGON ((-61.68000 10.76000, -61.10500 10.890...   \n",
       "48866  Trinidad and Tobago  POLYGON ((-61.68000 10.76000, -61.10500 10.890...   \n",
       "48867  Trinidad and Tobago  POLYGON ((-61.68000 10.76000, -61.10500 10.890...   \n",
       "48868  Trinidad and Tobago  POLYGON ((-61.68000 10.76000, -61.10500 10.890...   \n",
       "\n",
       "       year  population    normal  \n",
       "0      1800    130533.0  0.000317  \n",
       "1      1801    130746.0  0.000318  \n",
       "2      1802    130959.0  0.000318  \n",
       "3      1803    131172.0  0.000319  \n",
       "4      1804    131386.0  0.000320  \n",
       "...     ...         ...       ...  \n",
       "48864  1895    239604.0  0.000583  \n",
       "48865  1896    245821.0  0.000598  \n",
       "48866  1897    252005.0  0.000613  \n",
       "48867  1898    258236.0  0.000628  \n",
       "48868  1899    264500.0  0.000643  \n",
       "\n",
       "[16100 rows x 5 columns]"
      ]
     },
     "execution_count": 68,
     "metadata": {},
     "output_type": "execute_result"
    }
   ],
   "source": [
    "#change population to normal values.\n",
    "merged['normal'] = merged['population'] / merged['population'].max()\n",
    "merged['normal'] = merged['normal'].astype(float)\n",
    "merged"
   ]
  },
  {
   "cell_type": "code",
   "execution_count": 69,
   "metadata": {},
   "outputs": [],
   "source": [
    "import json\n",
    "\n",
    "#Read data to json\n",
    "merged_json = merged.to_json()\n",
    "\n",
    "#Convert to str like object\n",
    "#json_data = json.dumps(merged_json)"
   ]
  },
  {
   "cell_type": "code",
   "execution_count": 70,
   "metadata": {},
   "outputs": [
    {
     "data": {
      "text/plain": [
       "dict"
      ]
     },
     "execution_count": 70,
     "metadata": {},
     "output_type": "execute_result"
    }
   ],
   "source": [
    "merged_json = json.loads(merged_json)\n",
    "type(merged_json)"
   ]
  },
  {
   "cell_type": "code",
   "execution_count": 80,
   "metadata": {},
   "outputs": [],
   "source": [
    "plottable = merged[merged['year'] == 1800].to_dict(orient='records')\n"
   ]
  },
  {
   "cell_type": "code",
   "execution_count": 81,
   "metadata": {},
   "outputs": [],
   "source": [
    "geojson = pdk.Layer(\n",
    "    'GeoJsonLayer',\n",
    "    data = plottable,\n",
    "    opacity=0.8,\n",
    "    stroked=False,\n",
    "    filled=True,\n",
    "    extruded=True,\n",
    "    wireframe=True,\n",
    "    get_elevation='properties.normal * 100',\n",
    "    get_fill_color='[255, 1/(properties.normal), 255]',\n",
    "    #get_line_color=[255, 255, 255],\n",
    "    pickable=True\n",
    ")\n",
    "\n",
    "INITIAL_VIEW_STATE = pdk.ViewState(\n",
    "  latitude=49.254,\n",
    "  longitude=-123.13,\n",
    "  zoom=1,\n",
    "  max_zoom=16,\n",
    "  pitch=45,\n",
    "  bearing=0\n",
    ")\n",
    "\n",
    "r = pdk.Deck(\n",
    "    layers=[geojson],\n",
    "    initial_view_state=INITIAL_VIEW_STATE,  \n",
    "    tooltip={\n",
    "        'html': '<b>Country:</b>{elevationValue}',\n",
    "        'style': {\n",
    "            'color': 'white'\n",
    "        }\n",
    "    })\n",
    "    \n"
   ]
  },
  {
   "cell_type": "code",
   "execution_count": 82,
   "metadata": {},
   "outputs": [],
   "source": [
    "# Widget 슬라이더 생성\n",
    "import ipywidgets as widgets\n",
    "from IPython.display import display\n",
    "slider = widgets.IntSlider(1800, min=1801, max=2020, step=2)\n",
    "\n",
    "# Widget에서 사용할 함수 정의 \n",
    "def on_change(v):\n",
    "    results = merged[merged['year'] == slider.value].to_dict(orient='records')\n",
    "    geojson.data = results\n",
    "    r.update()"
   ]
  },
  {
   "cell_type": "code",
   "execution_count": 83,
   "metadata": {},
   "outputs": [
    {
     "data": {
      "text/plain": [
       "dict_keys(['type', 'features'])"
      ]
     },
     "execution_count": 83,
     "metadata": {},
     "output_type": "execute_result"
    }
   ],
   "source": [
    "#merged_json['year']\n",
    "merged_json.keys()"
   ]
  },
  {
   "cell_type": "code",
   "execution_count": 84,
   "metadata": {},
   "outputs": [
    {
     "data": {
      "application/vnd.jupyter.widget-view+json": {
       "model_id": "00c55ec936ba42d0b571dd99208053b9",
       "version_major": 2,
       "version_minor": 0
      },
      "text/plain": [
       "IntSlider(value=1800, max=2020, min=1800, step=2)"
      ]
     },
     "metadata": {},
     "output_type": "display_data"
    },
    {
     "data": {
      "application/vnd.jupyter.widget-view+json": {
       "model_id": "f46b3563a6cf45e59672b90cee99c1a1",
       "version_major": 2,
       "version_minor": 0
      },
      "text/plain": [
       "DeckGLWidget(json_input='{\"initialViewState\": {\"bearing\": 0, \"latitude\": 49.254, \"longitude\": -123.13, \"maxZoo…"
      ]
     },
     "metadata": {},
     "output_type": "display_data"
    }
   ],
   "source": [
    "slider.observe(on_change, names='value')\n",
    "display(slider)\n",
    "r.show()"
   ]
  },
  {
   "cell_type": "code",
   "execution_count": 77,
   "metadata": {},
   "outputs": [
    {
     "data": {
      "application/vnd.jupyter.widget-view+json": {
       "model_id": "4282d93f70004e5191fd3c1fc05a1a58",
       "version_major": 2,
       "version_minor": 0
      },
      "text/plain": [
       "IntSlider(value=1800, max=2020, min=1800, step=2)"
      ]
     },
     "metadata": {},
     "output_type": "display_data"
    },
    {
     "data": {
      "application/vnd.jupyter.widget-view+json": {
       "model_id": "06ca5527ccf84a0aba3d38cf5887dac6",
       "version_major": 2,
       "version_minor": 0
      },
      "text/plain": [
       "DeckGLWidget(json_input='{\"initialViewState\": {\"bearing\": 0, \"latitude\": 49.254, \"longitude\": -123.13, \"maxZoo…"
      ]
     },
     "metadata": {},
     "output_type": "display_data"
    }
   ],
   "source": [
    "# Deck과 슬라이더 연결\n",
    "#display(slider)\n",
    "#slider.observe(on_change)\n"
   ]
  },
  {
   "cell_type": "code",
   "execution_count": null,
   "metadata": {},
   "outputs": [],
   "source": []
  },
  {
   "cell_type": "code",
   "execution_count": null,
   "metadata": {},
   "outputs": [],
   "source": [
    "#def multipolygon_to_coordinates(x):\n",
    "#    lon, lat = x[0].exterior.xy\n",
    "#    return [[x, y] for x, y in zip(lon, lat)]\n",
    "\n",
    "#merged['coordinates'] = merged['geometry'].apply(multipolygon_to_coordinates)"
   ]
  }
 ],
 "metadata": {
  "kernelspec": {
   "display_name": "Python 3",
   "language": "python",
   "name": "python3"
  },
  "language_info": {
   "codemirror_mode": {
    "name": "ipython",
    "version": 3
   },
   "file_extension": ".py",
   "mimetype": "text/x-python",
   "name": "python",
   "nbconvert_exporter": "python",
   "pygments_lexer": "ipython3",
   "version": "3.7.6"
  }
 },
 "nbformat": 4,
 "nbformat_minor": 2
}
